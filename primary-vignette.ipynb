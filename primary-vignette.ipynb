{
 "cells": [
  {
   "cell_type": "markdown",
   "metadata": {},
   "source": [
    "## Neural Netowrking in Python\n",
    "In this vignette, we will show you how to implement a simple neural network on python using. We will be demonstrating this using a data set that deals with user behavior depending on what kind of phone they have.\n",
    "\n",
    "### Objective:"
   ]
  }
 ],
 "metadata": {
  "language_info": {
   "name": "python"
  }
 },
 "nbformat": 4,
 "nbformat_minor": 2
}
