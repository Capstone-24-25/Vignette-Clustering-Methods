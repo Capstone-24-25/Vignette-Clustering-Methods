{
 "cells": [
  {
   "cell_type": "markdown",
   "metadata": {},
   "source": [
    "## Clustering Methods in Python\n",
    "In this vignette, we will be comparing three different clusterig methods in python. We will be demonstrating this using a data set that deals with user behavior depending on what kind of phone they have.\n",
    "\n",
    "### Objective:"
   ]
  },
  {
   "cell_type": "markdown",
   "metadata": {},
   "source": [
    "## Data Description:\n",
    "The dataset represents user behavior data collected from various mobile devices and includes 12 attributes for 188 users. Key attributes include Device Model, Operating System, and demographic information such as Age and Gender, alongside numerical metrics that measure daily device usage. These numerical metrics include App Usage Time (min/day), Screen On Time (hours/day), Battery Drain (mAh/day), Number of Apps Installed, and Data Usage (MB/day). Additionally, each user is assigned a User Behavior Class, which categorizes their usage patterns into five distinct classes.\n",
    "\n",
    "The dataset provides a mix of categorical and numerical features, making it suitable for various clustering and classification analyses. The categorical features, such as Device Model and Operating System, allow for insights into behavioral differences across devices and platforms, while the numerical features provide detailed quantitative data on user interaction with their devices. With its diverse set of attributes, this dataset offers opportunities to explore user segmentation, predict user behavior patterns, and analyze correlations between usage habits and demographics."
   ]
  },
  {
   "cell_type": "markdown",
   "metadata": {},
   "source": [
    "## Clustering Methods:\n",
    "We will be comparing three different clustering methods today: k means, spectral, and agglomerative.\n",
    "\n",
    "#### K-Means Clustering:\n",
    "K-means clustering is an unsupervised machine learning algorithm which groups dataset into various clusters. It works by separating samples into groups of equal variances. This algorithim will follow 3 main steps:\n",
    "- Initialize k points, called means or cluster centroids.\n",
    "- Assign data points to clusters.\n",
    "- Update the coordinates of the centroids and repeat the process.\n",
    "\n",
    "#### Spectral Clustering:\n",
    "Spectral clustering is also an unsupervised machine learning algorithim. It is based on spectral graph theory and linear algebra. The main idea is to separate the data into several smaller groups. It is used mainly for clustering non-linearly spearable data. This algorithim will follow 2 main steps:\n",
    "- Creating a similarity matrix based on the data\n",
    "- Finding the eigenvectors and using them to transform the data into a lower-dimensional space. \n",
    "\n",
    "#### Agglomerative Clustering:\n",
    "Lastly, we have agglomerative clustering which is also an unsupervised machine learning algorithim. It is known as the \"bottom-up\" approach. Each data point is initially labeled as a cluster. It then works recursively to merge and form larger clusters. There are 3 main steps:\n",
    "- Creating a proximity matrix\n",
    "- Using a linkage function to group objects into a hierarchical cluster tree\n",
    "- Merging clusters togther that are in close proximity"
   ]
  }
 ],
 "metadata": {
  "kernelspec": {
   "display_name": "Vignette",
   "language": "python",
   "name": "python3"
  },
  "language_info": {
   "name": "python",
   "version": "3.13.0"
  }
 },
 "nbformat": 4,
 "nbformat_minor": 2
}
