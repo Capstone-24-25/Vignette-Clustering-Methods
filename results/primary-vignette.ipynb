{
 "cells": [
  {
   "cell_type": "markdown",
   "metadata": {},
   "source": [
    "## Clustering Methods in Python\n",
    "In this vignette, we will be comparing three different clusterig methods in python. We will be demonstrating this using a data set that deals with user behavior depending on what kind of phone they have.\n",
    "\n",
    "### Objective:"
   ]
  },
  {
   "cell_type": "markdown",
   "metadata": {},
   "source": [
    "### Set up:\n",
    "\n",
    "##### Importing modules:\n",
    "\n",
    "##### Partitioning data:"
   ]
  },
  {
   "cell_type": "markdown",
   "metadata": {},
   "source": [
    "## Clustering Methods:\n",
    "We will be comparing three different clustering methods today: k means, spectral, and agglomerative.\n",
    "\n",
    "#### K-Means Clustering:\n",
    "K-means clustering is an unsupervised machine learning algorithm which groups dataset into various clusters. It works by separating samples into groups of equal variances. This algorithim will follow 3 main steps:\n",
    "- Initialize k points, called means or cluster centroids.\n",
    "- Assign data points to clusters.\n",
    "- Update the coordinates of the centroids and repeat the process.\n",
    "\n",
    "#### Spectral Clustering:\n",
    "Spectral clustering is also an unsupervised machine learning algorithim. It is based on spectral graph theory and linear algebra. The main idea is to separate the data into several smaller groups. It is used mainly for clustering non-linearly spearable data. This algorithim will follow 2 main steps:\n",
    "- Creating a similarity matrix based on the data\n",
    "- Finding the eigenvectors and using them to transform the data into a lower-dimensional space. \n",
    "\n",
    "#### Agglomerative Clustering:\n",
    "Lastly, we have agglomerative clustering which is also an unsupervised machine learning algorithim. It is known as the \"bottom-up\" approach. Each data point is initially labeled as a cluster. It then works recursively to merge and form larger clusters. There are 3 main steps:\n",
    "- Creating a proximity matrix\n",
    "- Using a linkage function to group objects into a hierarchical cluster tree\n",
    "- Merging clusters togther that are in close proximity"
   ]
  }
 ],
 "metadata": {
  "language_info": {
   "name": "python"
  }
 },
 "nbformat": 4,
 "nbformat_minor": 2
}
